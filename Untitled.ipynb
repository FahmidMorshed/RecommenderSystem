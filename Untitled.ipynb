{
 "cells": [
  {
   "cell_type": "code",
   "execution_count": 2,
   "metadata": {},
   "outputs": [
    {
     "name": "stdout",
     "output_type": "stream",
     "text": [
      "     artistid   goodid\n",
      "476   1002670  1034635\n"
     ]
    },
    {
     "data": {
      "text/plain": [
       "playcount    674412\n",
       "Name: 1059637, dtype: int64"
      ]
     },
     "execution_count": 2,
     "metadata": {},
     "output_type": "execute_result"
    }
   ],
   "source": [
    "import pandas as pd\n",
    "import numpy as np\n",
    "\n",
    "df_ad = pd.read_csv('./data_raw/artist_data_small.txt', sep=\"\\t\", header=None)\n",
    "df_ad.columns = ['artistid', 'artist_name']\n",
    "# df_ad.set_index('artistid', inplace=True)\n",
    "df_ad\n",
    "\n",
    "df_aa = pd.read_csv('./data_raw/artist_alias_small.txt', sep=\"\\t\", header=None)\n",
    "df_aa.columns = ['artistid', 'goodid']\n",
    "# df_aa.set_index('artistid', inplace=True)\n",
    "df_aa\n",
    "\n",
    "df_uad = pd.read_csv('./data_raw/user_artist_data_small.txt', sep=\" \", header=None)\n",
    "df_uad.columns = ['userid', 'artistid', 'playcount']\n",
    "df_ad\n",
    "\n",
    "# print(df_aa.sort_values(by='artistid'))\n",
    "print(df_aa.loc[df_aa['artistid']==1002670])\n",
    "\n",
    "df_aa.loc[df_aa['goodid'].isin([1000049, 1000056, 1000114, 1000010, 1000062, 1000123, 1000094, 1000112, 1000113])]\n",
    "\n",
    "df_uad.loc[df_uad['artistid']==162]\n",
    "\n",
    "\n",
    "a = df_uad.groupby(['userid']).sum()\n",
    "a.loc[1059637, :]\n",
    "\n",
    "b = df_uad[['userid', 'playcount']]\n",
    "b = b.groupby(['userid']).sum()\n",
    "b.loc[1059637, :]\n",
    "# a = df_ad.join(df_aa, how='outer')\n",
    "\n",
    "# # a['goodid']\n",
    "# a = df_aa.join(df_uad, on='artistid', how='outer')\n",
    "# print(\"len a:\",len(a))\n",
    "# a = a[np.isfinite(a['userid'])]\n",
    "\n",
    "# # Delete these row indexes from dataFrame\n",
    "# a\n",
    "# print(\"len a:\", len(a))\n",
    "# print(\"len uad:\", len(df_uad))\n",
    "# a = a[['userid', 'goodid', 'playcount']].reset_index()\n",
    "# a = a[['userid', 'goodid', 'playcount']]\n",
    "# a.columns = ['userid', 'artistid', 'playcount']\n",
    "# a.loc[a['artistid']==15]\n",
    "# df_uad.loc[df_uad['artistid']==15]\n",
    "\n",
    "# len(df_uad)"
   ]
  },
  {
   "cell_type": "code",
   "execution_count": 3,
   "metadata": {},
   "outputs": [],
   "source": [
    "df = pd.read_csv('./data_raw/user_artist_data_small.txt', sep=\" \", header=None)\n",
    "df.columns = ['userid', 'artistid', 'playcount']"
   ]
  },
  {
   "cell_type": "code",
   "execution_count": 5,
   "metadata": {},
   "outputs": [
    {
     "data": {
      "text/plain": [
       "49481"
      ]
     },
     "execution_count": 5,
     "metadata": {},
     "output_type": "execute_result"
    }
   ],
   "source": [
    "len(df)"
   ]
  },
  {
   "cell_type": "code",
   "execution_count": null,
   "metadata": {},
   "outputs": [],
   "source": []
  }
 ],
 "metadata": {
  "kernelspec": {
   "display_name": "Python 3",
   "language": "python",
   "name": "python3"
  },
  "language_info": {
   "codemirror_mode": {
    "name": "ipython",
    "version": 3
   },
   "file_extension": ".py",
   "mimetype": "text/x-python",
   "name": "python",
   "nbconvert_exporter": "python",
   "pygments_lexer": "ipython3",
   "version": "3.7.3"
  }
 },
 "nbformat": 4,
 "nbformat_minor": 2
}
